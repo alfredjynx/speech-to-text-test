{
 "cells": [
  {
   "cell_type": "markdown",
   "metadata": {},
   "source": [
    "# Speech to text em português\n",
    "\n",
    "Tutoriais vistos -\n",
    "\n",
    "- https://medium.com/brasil-ai/reconhecimento-voz-python-35a5023767ca\n",
    "\n",
    "\n",
    "\n",
    "\n",
    "\n",
    "- https://medium.com/@pierre_guillou/speech-to-text-ia-transcreva-qualquer-%C3%A1udio-para-o-portugu%C3%AAs-com-o-whisper-openai-sem-ad0c17384681\n",
    "(ver mais a respeito por conta do fine-tuning possível)"
   ]
  },
  {
   "cell_type": "code",
   "execution_count": 1,
   "metadata": {},
   "outputs": [
    {
     "name": "stdout",
     "output_type": "stream",
     "text": [
      "Diga alguma coisa: \n",
      "Você disse: alô alô alô alô Realengo\n"
     ]
    },
    {
     "data": {
      "text/plain": [
       "'alô alô alô alô Realengo'"
      ]
     },
     "execution_count": 1,
     "metadata": {},
     "output_type": "execute_result"
    }
   ],
   "source": [
    "import speech_recognition as sr\n",
    "\n",
    "# Função responsável por ouvir e reconhecer a fala\n",
    "def ouvir_microfone():\n",
    "    # Habilita o microfone para ouvir o usuário\n",
    "    microfone = sr.Recognizer()\n",
    "    with sr.Microphone() as source:\n",
    "        # Chama a função de redução de ruído disponível no speech_recognition\n",
    "        microfone.adjust_for_ambient_noise(source)\n",
    "        # Avisa ao usuário que está pronto para ouvir\n",
    "        print(\"Diga alguma coisa: \")\n",
    "        # Armazena a informação de áudio na variável\n",
    "        audio = microfone.listen(source)\n",
    "        \n",
    "    try:\n",
    "        # Passa o áudio para o reconhecedor de padrões do speech_recognition\n",
    "        frase = microfone.recognize_google(audio, language='pt-BR')\n",
    "        # Após alguns segundos, retorna a frase falada\n",
    "        print(\"Você disse: \" + frase)\n",
    "    # Caso não tenha reconhecido o padrão de fala, exibe esta mensagem\n",
    "    except sr.UnknownValueError:\n",
    "        print(\"Não entendi\")\n",
    "    except sr.RequestError:\n",
    "        print(\"Não foi possível se conectar ao serviço de reconhecimento de fala.\")\n",
    "        \n",
    "    return frase\n",
    "\n",
    "ouvir_microfone()\n"
   ]
  },
  {
   "cell_type": "markdown",
   "metadata": {},
   "source": [
    "Fazendo o tutorial daqui: https://thepythoncode.com/article/using-speech-recognition-to-convert-speech-to-text-python"
   ]
  },
  {
   "cell_type": "code",
   "execution_count": 3,
   "metadata": {},
   "outputs": [
    {
     "name": "stdout",
     "output_type": "stream",
     "text": [
      "I believe you are just talking nonsense\n"
     ]
    }
   ],
   "source": [
    "import speech_recognition as sr\n",
    "\n",
    "filename = \"../data/16-122828-0002.wav\"\n",
    "\n",
    "# initialize the recognizer\n",
    "r = sr.Recognizer()\n",
    "\n",
    "# open the file\n",
    "with sr.AudioFile(filename) as source:\n",
    "    # listen for the data (load audio to memory)\n",
    "    audio_data = r.record(source)\n",
    "    # recognize (convert from speech to text)\n",
    "    text = r.recognize_google(audio_data)\n",
    "    print(text)"
   ]
  },
  {
   "cell_type": "code",
   "execution_count": 5,
   "metadata": {},
   "outputs": [
    {
     "name": "stderr",
     "output_type": "stream",
     "text": [
      "c:\\Users\\jalfr\\OneDrive\\Desktop\\MASP\\Code\\Test\\speech_to_text\\speech-to-text-test\\.venv\\Lib\\site-packages\\pydub\\utils.py:170: RuntimeWarning: Couldn't find ffmpeg or avconv - defaulting to ffmpeg, but may not work\n",
      "  warn(\"Couldn't find ffmpeg or avconv - defaulting to ffmpeg, but may not work\", RuntimeWarning)\n"
     ]
    }
   ],
   "source": [
    "# importing libraries \n",
    "import speech_recognition as sr \n",
    "import os \n",
    "from pydub import AudioSegment\n",
    "from pydub.silence import split_on_silence\n",
    "\n",
    "# create a speech recognition object\n",
    "r = sr.Recognizer()\n",
    "\n",
    "# a function to recognize speech in the audio file\n",
    "# so that we don't repeat ourselves in in other functions\n",
    "def transcribe_audio(path):\n",
    "    # use the audio file as the audio source\n",
    "    with sr.AudioFile(path) as source:\n",
    "        audio_listened = r.record(source)\n",
    "        # try converting it to text\n",
    "        text = r.recognize_google(audio_listened)\n",
    "    return text\n",
    "\n",
    "# a function that splits the audio file into chunks on silence\n",
    "# and applies speech recognition\n",
    "def get_large_audio_transcription_on_silence(path):\n",
    "    \"\"\"Splitting the large audio file into chunks\n",
    "    and apply speech recognition on each of these chunks\"\"\"\n",
    "    # open the audio file using pydub\n",
    "    sound = AudioSegment.from_file(path)  \n",
    "    # split audio sound where silence is 500 miliseconds or more and get chunks\n",
    "    chunks = split_on_silence(sound,\n",
    "        # experiment with this value for your target audio file\n",
    "        min_silence_len = 500,\n",
    "        # adjust this per requirement\n",
    "        silence_thresh = sound.dBFS-14,\n",
    "        # keep the silence for 1 second, adjustable as well\n",
    "        keep_silence=500,\n",
    "    )\n",
    "    folder_name = \"audio-chunks\"\n",
    "    # create a directory to store the audio chunks\n",
    "    if not os.path.isdir(folder_name):\n",
    "        os.mkdir(folder_name)\n",
    "    whole_text = \"\"\n",
    "    # process each chunk \n",
    "    for i, audio_chunk in enumerate(chunks, start=1):\n",
    "        # export audio chunk and save it in\n",
    "        # the `folder_name` directory.\n",
    "        chunk_filename = os.path.join(folder_name, f\"chunk{i}.wav\")\n",
    "        audio_chunk.export(chunk_filename, format=\"wav\")\n",
    "        # recognize the chunk\n",
    "        try:\n",
    "            text = transcribe_audio(chunk_filename)\n",
    "        except sr.UnknownValueError as e:\n",
    "            print(\"Error:\", str(e))\n",
    "        else:\n",
    "            text = f\"{text.capitalize()}. \"\n",
    "            print(chunk_filename, \":\", text)\n",
    "            whole_text += text\n",
    "    # return the text for all chunks detected\n",
    "    return whole_text\n"
   ]
  },
  {
   "cell_type": "code",
   "execution_count": 6,
   "metadata": {},
   "outputs": [
    {
     "name": "stdout",
     "output_type": "stream",
     "text": [
      "audio-chunks\\chunk1.wav : Here's a boat which he had fixed in a bowery or a country seat. \n",
      "audio-chunks\\chunk2.wav : Add a short distance from the city. \n",
      "audio-chunks\\chunk3.wav : Just that what is now called dutch street. \n",
      "audio-chunks\\chunk4.wav : Soon abounded with proofs of his ingenuity. \n",
      "audio-chunks\\chunk5.wav : Patent smoke. \n",
      "audio-chunks\\chunk6.wav : It required a horse to work some. \n",
      "audio-chunks\\chunk7.wav : Dutch ovens that roasted meat without fire. \n",
      "audio-chunks\\chunk8.wav : Carts that went before the horses. \n",
      "audio-chunks\\chunk9.wav : Weather cox that turned against the wind and other wrong-headed contrivances. \n",
      "audio-chunks\\chunk10.wav : Set astonished and confounded all beholders. \n",
      "\n",
      "Full text: Here's a boat which he had fixed in a bowery or a country seat. Add a short distance from the city. Just that what is now called dutch street. Soon abounded with proofs of his ingenuity. Patent smoke. It required a horse to work some. Dutch ovens that roasted meat without fire. Carts that went before the horses. Weather cox that turned against the wind and other wrong-headed contrivances. Set astonished and confounded all beholders. \n"
     ]
    }
   ],
   "source": [
    "path = \"../data/7601-291468-0006.wav\"\n",
    "print(\"\\nFull text:\", get_large_audio_transcription_on_silence(path))"
   ]
  }
 ],
 "metadata": {
  "kernelspec": {
   "display_name": "Python 3",
   "language": "python",
   "name": "python3"
  },
  "language_info": {
   "codemirror_mode": {
    "name": "ipython",
    "version": 3
   },
   "file_extension": ".py",
   "mimetype": "text/x-python",
   "name": "python",
   "nbconvert_exporter": "python",
   "pygments_lexer": "ipython3",
   "version": "3.12.5"
  }
 },
 "nbformat": 4,
 "nbformat_minor": 2
}
